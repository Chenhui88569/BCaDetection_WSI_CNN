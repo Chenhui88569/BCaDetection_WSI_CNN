{
 "cells": [
  {
   "cell_type": "code",
   "execution_count": 1,
   "metadata": {},
   "outputs": [
    {
     "name": "stdout",
     "output_type": "stream",
     "text": [
      "Found 14000 images belonging to 2 classes.\n",
      "Found 3000 images belonging to 2 classes.\n",
      "WARNING:tensorflow:From D:\\application\\pycode\\lib\\site-packages\\tensorflow\\python\\ops\\resource_variable_ops.py:435: colocate_with (from tensorflow.python.framework.ops) is deprecated and will be removed in a future version.\n",
      "Instructions for updating:\n",
      "Colocations handled automatically by placer.\n",
      "WARNING:tensorflow:From D:\\application\\pycode\\lib\\site-packages\\tensorflow\\python\\keras\\layers\\core.py:143: calling dropout (from tensorflow.python.ops.nn_ops) with keep_prob is deprecated and will be removed in a future version.\n",
      "Instructions for updating:\n",
      "Please use `rate` instead of `keep_prob`. Rate should be set to `rate = 1 - keep_prob`.\n",
      "WARNING:tensorflow:From D:\\application\\pycode\\lib\\site-packages\\tensorflow\\python\\ops\\math_ops.py:3066: to_int32 (from tensorflow.python.ops.math_ops) is deprecated and will be removed in a future version.\n",
      "Instructions for updating:\n",
      "Use tf.cast instead.\n",
      "Epoch 1/30\n",
      "150/150 [==============================] - 32s 212ms/step - loss: 0.4398 - acc: 0.8040\n",
      "700/700 [==============================] - 675s 965ms/step - loss: 0.4570 - acc: 0.8069 - val_loss: 0.4398 - val_acc: 0.8040\n",
      "Epoch 2/30\n",
      "150/150 [==============================] - 33s 217ms/step - loss: 0.4687 - acc: 0.7720\n",
      "700/700 [==============================] - 672s 960ms/step - loss: 0.4064 - acc: 0.8274 - val_loss: 0.4687 - val_acc: 0.7720\n",
      "Epoch 3/30\n",
      "150/150 [==============================] - 32s 216ms/step - loss: 0.4439 - acc: 0.7970\n",
      "700/700 [==============================] - 679s 971ms/step - loss: 0.3810 - acc: 0.8400 - val_loss: 0.4439 - val_acc: 0.7970\n",
      "Epoch 4/30\n",
      "150/150 [==============================] - 32s 216ms/step - loss: 0.3835 - acc: 0.8437\n",
      "700/700 [==============================] - 675s 964ms/step - loss: 0.3779 - acc: 0.8424 - val_loss: 0.3835 - val_acc: 0.8437\n",
      "Epoch 5/30\n",
      "150/150 [==============================] - 32s 214ms/step - loss: 0.3649 - acc: 0.8483\n",
      "700/700 [==============================] - 674s 963ms/step - loss: 0.3621 - acc: 0.8506 - val_loss: 0.3649 - val_acc: 0.8483\n",
      "Epoch 6/30\n",
      "150/150 [==============================] - 32s 215ms/step - loss: 0.3702 - acc: 0.8507\n",
      "700/700 [==============================] - 667s 953ms/step - loss: 0.3570 - acc: 0.8510 - val_loss: 0.3702 - val_acc: 0.8507\n",
      "Epoch 7/30\n",
      "150/150 [==============================] - 32s 211ms/step - loss: 0.3650 - acc: 0.8453\n",
      "700/700 [==============================] - 674s 963ms/step - loss: 0.3539 - acc: 0.8525 - val_loss: 0.3650 - val_acc: 0.8453\n",
      "Epoch 8/30\n",
      "150/150 [==============================] - 32s 211ms/step - loss: 0.4192 - acc: 0.8397\n",
      "700/700 [==============================] - 665s 950ms/step - loss: 0.3517 - acc: 0.8566 - val_loss: 0.4192 - val_acc: 0.8397\n",
      "Epoch 9/30\n",
      "150/150 [==============================] - 31s 207ms/step - loss: 0.3538 - acc: 0.8560\n",
      "700/700 [==============================] - 663s 948ms/step - loss: 0.3430 - acc: 0.8574 - val_loss: 0.3538 - val_acc: 0.8560\n",
      "Epoch 10/30\n",
      "150/150 [==============================] - 31s 207ms/step - loss: 0.3613 - acc: 0.8410\n",
      "700/700 [==============================] - 658s 939ms/step - loss: 0.3423 - acc: 0.8594 - val_loss: 0.3613 - val_acc: 0.8410\n",
      "Epoch 11/30\n",
      "150/150 [==============================] - 31s 207ms/step - loss: 0.3556 - acc: 0.8550\n",
      "700/700 [==============================] - 656s 938ms/step - loss: 0.3429 - acc: 0.8592 - val_loss: 0.3556 - val_acc: 0.8550\n",
      "Epoch 12/30\n",
      "150/150 [==============================] - 32s 214ms/step - loss: 0.3764 - acc: 0.8433\n",
      "700/700 [==============================] - 666s 951ms/step - loss: 0.3379 - acc: 0.8640 - val_loss: 0.3764 - val_acc: 0.8433\n",
      "Epoch 13/30\n",
      "150/150 [==============================] - 32s 211ms/step - loss: 0.3700 - acc: 0.8453\n",
      "700/700 [==============================] - 668s 955ms/step - loss: 0.3371 - acc: 0.8626 - val_loss: 0.3700 - val_acc: 0.8453\n",
      "Epoch 14/30\n",
      "150/150 [==============================] - 32s 214ms/step - loss: 0.3505 - acc: 0.8493\n",
      "700/700 [==============================] - 664s 948ms/step - loss: 0.3320 - acc: 0.8634 - val_loss: 0.3505 - val_acc: 0.8493\n",
      "Epoch 15/30\n",
      "150/150 [==============================] - 32s 214ms/step - loss: 0.3789 - acc: 0.8480\n",
      "700/700 [==============================] - 674s 962ms/step - loss: 0.3321 - acc: 0.8657 - val_loss: 0.3789 - val_acc: 0.8480\n",
      "Epoch 16/30\n",
      "150/150 [==============================] - 32s 213ms/step - loss: 0.3453 - acc: 0.8620\n",
      "700/700 [==============================] - 671s 959ms/step - loss: 0.3279 - acc: 0.8688 - val_loss: 0.3453 - val_acc: 0.8620\n",
      "Epoch 17/30\n",
      "150/150 [==============================] - 32s 211ms/step - loss: 0.4041 - acc: 0.8303\n",
      "700/700 [==============================] - 670s 957ms/step - loss: 0.3269 - acc: 0.8649 - val_loss: 0.4041 - val_acc: 0.8303\n",
      "Epoch 18/30\n",
      "150/150 [==============================] - 32s 213ms/step - loss: 0.3295 - acc: 0.8650\n",
      "700/700 [==============================] - 665s 950ms/step - loss: 0.3310 - acc: 0.8629 - val_loss: 0.3295 - val_acc: 0.8650\n",
      "Epoch 19/30\n",
      "150/150 [==============================] - 33s 217ms/step - loss: 0.3388 - acc: 0.8530\n",
      "700/700 [==============================] - 675s 964ms/step - loss: 0.3232 - acc: 0.8696 - val_loss: 0.3388 - val_acc: 0.8530\n",
      "Epoch 20/30\n",
      "150/150 [==============================] - 32s 215ms/step - loss: 0.3383 - acc: 0.8587\n",
      "700/700 [==============================] - 676s 965ms/step - loss: 0.3216 - acc: 0.8678 - val_loss: 0.3383 - val_acc: 0.8587\n",
      "Epoch 21/30\n",
      "150/150 [==============================] - 32s 211ms/step - loss: 0.3505 - acc: 0.8507\n",
      "700/700 [==============================] - 672s 960ms/step - loss: 0.3241 - acc: 0.8684 - val_loss: 0.3505 - val_acc: 0.8507\n",
      "Epoch 22/30\n",
      "150/150 [==============================] - 32s 212ms/step - loss: 0.3308 - acc: 0.8607\n",
      "700/700 [==============================] - 672s 959ms/step - loss: 0.3200 - acc: 0.8690 - val_loss: 0.3308 - val_acc: 0.8607\n",
      "Epoch 23/30\n",
      "150/150 [==============================] - 32s 215ms/step - loss: 0.3285 - acc: 0.8653\n",
      "700/700 [==============================] - 672s 961ms/step - loss: 0.3215 - acc: 0.8701 - val_loss: 0.3285 - val_acc: 0.8653\n",
      "Epoch 24/30\n",
      "150/150 [==============================] - 32s 214ms/step - loss: 0.3531 - acc: 0.8557\n",
      "700/700 [==============================] - 674s 963ms/step - loss: 0.3222 - acc: 0.8704 - val_loss: 0.3531 - val_acc: 0.8557\n",
      "Epoch 25/30\n",
      "150/150 [==============================] - 31s 210ms/step - loss: 0.3367 - acc: 0.8570\n",
      "700/700 [==============================] - 672s 960ms/step - loss: 0.3157 - acc: 0.8735 - val_loss: 0.3367 - val_acc: 0.8570\n",
      "Epoch 26/30\n",
      "150/150 [==============================] - 32s 214ms/step - loss: 0.3287 - acc: 0.8610\n",
      "700/700 [==============================] - 668s 954ms/step - loss: 0.3150 - acc: 0.8714 - val_loss: 0.3287 - val_acc: 0.8610\n",
      "Epoch 27/30\n",
      "150/150 [==============================] - 32s 212ms/step - loss: 0.3724 - acc: 0.8483\n",
      "700/700 [==============================] - 670s 957ms/step - loss: 0.3178 - acc: 0.8706 - val_loss: 0.3724 - val_acc: 0.8483\n",
      "Epoch 28/30\n",
      "150/150 [==============================] - 32s 214ms/step - loss: 0.3289 - acc: 0.8590\n",
      "700/700 [==============================] - 669s 956ms/step - loss: 0.3171 - acc: 0.8731 - val_loss: 0.3289 - val_acc: 0.8590\n",
      "Epoch 29/30\n",
      "150/150 [==============================] - 32s 216ms/step - loss: 0.3345 - acc: 0.8587\n",
      "700/700 [==============================] - 672s 960ms/step - loss: 0.3083 - acc: 0.8753 - val_loss: 0.3345 - val_acc: 0.8587\n",
      "Epoch 30/30\n",
      "150/150 [==============================] - 32s 212ms/step - loss: 0.3291 - acc: 0.8640\n",
      "700/700 [==============================] - 672s 960ms/step - loss: 0.3171 - acc: 0.8726 - val_loss: 0.3291 - val_acc: 0.8640\n"
     ]
    }
   ],
   "source": [
    "import tensorflow as tf\n",
    "import os\n",
    "from tensorflow.keras.optimizers import RMSprop\n",
    "from tensorflow.keras.preprocessing.image import ImageDataGenerator\n",
    "\n",
    " \n",
    "train_datagen = ImageDataGenerator(\n",
    "      rescale = 1./255,\n",
    "      samplewise_std_normalization = True,\n",
    "      samplewise_center = True,\n",
    "      rotation_range=40,\n",
    "      width_shift_range=0.2,\n",
    "      height_shift_range=0.2,\n",
    "      shear_range=0.2,\n",
    "      zoom_range=0.2,\n",
    "      horizontal_flip=True,\n",
    "      fill_mode='nearest')\n",
    "\n",
    "test_datagen = ImageDataGenerator(rescale=1./255,\n",
    "      samplewise_std_normalization = True,\n",
    "      samplewise_center = True)\n",
    "\n",
    "\n",
    "parent_dir = r'\\ECSE484_Fall2020'\n",
    "validation_dir = os.path.join(parent_dir, 'validation_for_CNN_2')\n",
    "train_dir =   os.path.join(parent_dir, 'training_for_CNN_2')\n",
    " \n",
    "\n",
    "train_generator = train_datagen.flow_from_directory(\n",
    "        train_dir,  # this is the target directory\n",
    "        target_size=(101,101),  # all images will be resized to 150x150\n",
    "        batch_size=20,\n",
    "        class_mode='categorical')  # since we use binary_crossentropy loss, we need binary labels\n",
    "\n",
    "validation_generator = test_datagen.flow_from_directory(\n",
    "        validation_dir,  # this is the target directory\n",
    "        target_size=(101,101),  # all images will be resized to 150x150\n",
    "        batch_size=20,\n",
    "        class_mode='categorical')  # since we use binary_crossentropy loss, we need binary labels\n",
    "\n",
    "model = tf.keras.models.Sequential([\n",
    "    tf.keras.layers.Conv2D(128,(3,3), activation='relu', input_shape=(101,101, 3)),\n",
    "    tf.keras.layers.MaxPooling2D(2,2),\n",
    "    tf.keras.layers.Dropout(rate=0.2),\n",
    "    tf.keras.layers.Conv2D(128,(3,3), activation='relu'),\n",
    "    tf.keras.layers.MaxPooling2D(2,2),\n",
    "    tf.keras.layers.Dropout(rate=0.2),\n",
    "    tf.keras.layers.Conv2D(256,(3,3), activation='relu'),\n",
    "    tf.keras.layers.MaxPooling2D(2,2),\n",
    "    tf.keras.layers.Dropout(rate=0.2),\n",
    "    tf.keras.layers.Conv2D(256,(3,3), activation='relu'),\n",
    "    tf.keras.layers.MaxPooling2D(2,2),\n",
    "    tf.keras.layers.Dropout(rate=0.2),\n",
    "    tf.keras.layers.Flatten(), #fully connected\n",
    "    tf.keras.layers.Dense(512, activation='relu'),\n",
    "    tf.keras.layers.Dense(256, activation='relu'),\n",
    "    tf.keras.layers.Dense(2, activation='softmax')     \n",
    "])\n",
    "model.compile(loss='categorical_crossentropy',\n",
    "              optimizer='adam',\n",
    "              metrics=['accuracy'])\n",
    "\n",
    "#the other way to construct model\n",
    "#model = Sequential()\n",
    "#add model layers\n",
    "#model.add(Conv2D(256,(8,8), activation = 'relu',input_shape = (101,101,3)))\n",
    "#model.add(MaxPooling2D(pool_size=(2,2)))\n",
    "#model.add(Flatten())\n",
    "#model.add(Dense(256))# a fully connected layer\n",
    "#model.add(Activation('softmax'))\n",
    "#model.add(Dense(2, activation='softmax'))\n",
    "#model.compile(optimizer = 'adam',loss = 'categorical_crossentropy',metrics=['accuracy'])\n",
    "\n",
    "history = model.fit(\n",
    "    train_generator,\n",
    "    steps_per_epoch=700,  #steps_per_epoch*batch_size =   700*  20 = 14000\n",
    "    epochs = 30, \n",
    "    validation_data = validation_generator,\n",
    "    validation_steps = 150, #validation_steps*batch_size =   150 *20 =  3000\n",
    "    verbose=1)"
   ]
  },
  {
   "cell_type": "code",
   "execution_count": 2,
   "metadata": {},
   "outputs": [],
   "source": [
    "model_path = r'\\ECSE484_Fall2020\\mymodel_4conv_2FC_dataset2'\n",
    "model.save(model_path)"
   ]
  },
  {
   "cell_type": "code",
   "execution_count": 13,
   "metadata": {},
   "outputs": [],
   "source": [
    "new_model = tf.keras.models.load_model(r'\\ECSE484_Fall2020\\mymodel_4conv_2FC_dataset2')"
   ]
  },
  {
   "cell_type": "code",
   "execution_count": 14,
   "metadata": {},
   "outputs": [
    {
     "data": {
      "text/plain": [
       "tensorflow.python.keras.engine.sequential.Sequential"
      ]
     },
     "execution_count": 14,
     "metadata": {},
     "output_type": "execute_result"
    }
   ],
   "source": [
    "type(new_model)"
   ]
  },
  {
   "cell_type": "code",
   "execution_count": 6,
   "metadata": {},
   "outputs": [
    {
     "name": "stdout",
     "output_type": "stream",
     "text": [
      "_________________________________________________________________\n",
      "Layer (type)                 Output Shape              Param #   \n",
      "=================================================================\n",
      "conv2d (Conv2D)              (None, 99, 99, 128)       3584      \n",
      "_________________________________________________________________\n",
      "max_pooling2d (MaxPooling2D) (None, 49, 49, 128)       0         \n",
      "_________________________________________________________________\n",
      "dropout (Dropout)            (None, 49, 49, 128)       0         \n",
      "_________________________________________________________________\n",
      "conv2d_1 (Conv2D)            (None, 47, 47, 128)       147584    \n",
      "_________________________________________________________________\n",
      "max_pooling2d_1 (MaxPooling2 (None, 23, 23, 128)       0         \n",
      "_________________________________________________________________\n",
      "dropout_1 (Dropout)          (None, 23, 23, 128)       0         \n",
      "_________________________________________________________________\n",
      "conv2d_2 (Conv2D)            (None, 21, 21, 256)       295168    \n",
      "_________________________________________________________________\n",
      "max_pooling2d_2 (MaxPooling2 (None, 10, 10, 256)       0         \n",
      "_________________________________________________________________\n",
      "dropout_2 (Dropout)          (None, 10, 10, 256)       0         \n",
      "_________________________________________________________________\n",
      "conv2d_3 (Conv2D)            (None, 8, 8, 256)         590080    \n",
      "_________________________________________________________________\n",
      "max_pooling2d_3 (MaxPooling2 (None, 4, 4, 256)         0         \n",
      "_________________________________________________________________\n",
      "dropout_3 (Dropout)          (None, 4, 4, 256)         0         \n",
      "_________________________________________________________________\n",
      "flatten (Flatten)            (None, 4096)              0         \n",
      "_________________________________________________________________\n",
      "dense (Dense)                (None, 512)               2097664   \n",
      "_________________________________________________________________\n",
      "dense_1 (Dense)              (None, 256)               131328    \n",
      "_________________________________________________________________\n",
      "dense_2 (Dense)              (None, 2)                 514       \n",
      "=================================================================\n",
      "Total params: 3,265,922\n",
      "Trainable params: 3,265,922\n",
      "Non-trainable params: 0\n",
      "_________________________________________________________________\n"
     ]
    }
   ],
   "source": [
    "model.summary()"
   ]
  },
  {
   "cell_type": "code",
   "execution_count": 15,
   "metadata": {},
   "outputs": [
    {
     "name": "stdout",
     "output_type": "stream",
     "text": [
      "Found 3000 images belonging to 2 classes.\n",
      "150/150 [==============================] - 32s 214ms/step - loss: 0.2806 - acc: 0.8753\n"
     ]
    }
   ],
   "source": [
    "parent_dir = r'\\ECSE484_Fall2020'\n",
    "test_dir =   os.path.join(parent_dir, 'testing_for_CNN_2')\n",
    "test_datagen = ImageDataGenerator(rescale=1./255,\n",
    "      samplewise_std_normalization = True,\n",
    "      samplewise_center = True)\n",
    "test_generator = test_datagen.flow_from_directory(\n",
    "        test_dir,  # this is the target directory\n",
    "        target_size=(101,101),  # all images will be resized to 150x150\n",
    "        batch_size=20,\n",
    "        class_mode='categorical')  # since we use binary_crossentropy loss, we need binary labels\n",
    "predict_results = new_model.evaluate(test_generator)"
   ]
  },
  {
   "cell_type": "code",
   "execution_count": 9,
   "metadata": {},
   "outputs": [
    {
     "data": {
      "image/png": "[encoded data removed]",
      "text/plain": [
       "<Figure size 432x288 with 1 Axes>"
      ]
     },
     "metadata": {},
     "output_type": "display_data"
    },
    {
     "data": {
      "image/png": "[encoded data removed]",
      "text/plain": [
       "<Figure size 432x288 with 1 Axes>"
      ]
     },
     "metadata": {},
     "output_type": "display_data"
    }
   ],
   "source": [
    "import matplotlib.pyplot as plt\n",
    "acc = history.history['acc']\n",
    "val_acc = history.history['val_acc']\n",
    "loss = history.history['loss']\n",
    "val_loss = history.history['val_loss']\n",
    "\n",
    "epochs = range(len(acc))\n",
    "\n",
    "plt.plot(epochs, acc, 'bo', label='Training accuracy')\n",
    "plt.plot(epochs, val_acc, 'b', label='Validation accuracy')\n",
    "plt.title('Training and validation accuracy')\n",
    "plt.legend()\n",
    "plt.grid()\n",
    "plt.savefig( os.path.join(parent_dir, 'prediction_4conv_dataset2_acc.png'))\n",
    "plt.figure()\n",
    "\n",
    "plt.plot(epochs, loss, 'bo', label='Training Loss')\n",
    "plt.plot(epochs, val_loss, 'b', label='Validation Loss')\n",
    "plt.title('Training and validation loss')\n",
    "plt.legend()\n",
    "plt.grid()\n",
    "plt.savefig( os.path.join(parent_dir, 'prediction_4conv_dataset2_loss.png'))\n",
    "plt.show()"
   ]
  }
 ],
 "metadata": {
  "kernelspec": {
   "display_name": "Python 3",
   "language": "python",
   "name": "python3"
  },
  "language_info": {
   "codemirror_mode": {
    "name": "ipython",
    "version": 3
   },
   "file_extension": ".py",
   "mimetype": "text/x-python",
   "name": "python",
   "nbconvert_exporter": "python",
   "pygments_lexer": "ipython3",
   "version": "3.7.6"
  }
 },
 "nbformat": 4,
 "nbformat_minor": 2
}
