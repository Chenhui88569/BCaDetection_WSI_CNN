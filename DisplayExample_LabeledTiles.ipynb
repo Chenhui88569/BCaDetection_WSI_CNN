{
 "cells": [
  {
   "cell_type": "markdown",
   "metadata": {},
   "source": [
    " ## Display labeled tiles"
   ]
  },
  {
   "cell_type": "markdown",
   "metadata": {},
   "source": [
    "\n",
    "1. small space between patches \n",
    "2. positive tiles marked with bright color"
   ]
  },
  {
   "cell_type": "code",
   "execution_count": 2,
   "metadata": {},
   "outputs": [],
   "source": [
    "import cv2\n",
    "import math\n",
    "import os \n",
    "import shutil\n",
    "import numpy as np\n",
    "\n",
    "#label tiles\n",
    "path_dir = r'\\S10-16955 A7_201305011058.png'\n",
    "path_dir_mask = r'\\ECSE484_Fall2020\\training_2020\\CWRU_masks\\S10-16955 A7_201305011058.png'\n",
    "img_WSI = cv2.imread(path_dir)\n",
    "image_YUV = cv2.cvtColor(img_WSI,cv2.COLOR_RGB2YUV)\n",
    "img_mask = cv2.imread(path_dir_mask)\n",
    "img_shape = img_WSI.shape\n",
    "all_cropped_images = [];\n",
    "all_cropped_masks = [];\n",
    "positive_collection = []\n",
    "negative_collection = []\n",
    "non_tissue_collection = []\n",
    "tile_size = (101, 101)\n",
    "offset = (101, 101)\n",
    "height  = int(math.ceil(img_shape[0]/(offset[1] * 1.0)))\n",
    "width = int(math.ceil(img_shape[1]/(offset[0] * 1.0)))\n",
    "for i in range(int(math.ceil(img_shape[0]/(offset[1] * 1.0)))):\n",
    "    for j in range(int(math.ceil(img_shape[1]/(offset[0] * 1.0)))):\n",
    "    #for each tile\n",
    "    #step1. tile sampling\n",
    "        cropped_img_WSI = img_WSI[offset[1]*i:min(offset[1]*i+tile_size[1], img_shape[0]), offset[0]*j:min(offset[0]*j+tile_size[0], img_shape[1])]\n",
    "        #all_cropped_images.append(cropped_img_WSI.astype('float'))\n",
    "        cropped_img_mask = img_mask[offset[1]*i:min(offset[1]*i+tile_size[1], img_shape[0]), offset[0]*j:min(offset[0]*j+tile_size[0], img_shape[1])]\n",
    "        all_cropped_images.append(cropped_img_WSI)\n",
    "        all_cropped_masks.append(cropped_img_mask)\n",
    "        if cropped_img_WSI is not None:\n",
    "            cropped_image_WSI_01 = cropped_img_WSI/255 \n",
    "            cropped_image_WSI_img_01_mean = cropped_image_WSI_01.mean()\n",
    "            cropped_image_WSI_img_01_std = cropped_image_WSI_01.std() \n",
    "            #step2.Remove non_tissue\n",
    "            if cropped_image_WSI_img_01_mean >= 0.85 and cropped_image_WSI_img_01_std <= 0.1: \n",
    "                non_tissue_collection.append(str(i)+'_'+ str(j))\n",
    "            else:\n",
    "                a = np.mean(cropped_img_mask[:,:,0])/255 # binary mask 0：white; 1: black\n",
    "                # step3: labeling\n",
    "                if a >= 0.55:#60% white ； positive\n",
    "                    positive_collection.append(str(i)+'_'+ str(j))\n",
    "                else:\n",
    "                    negative_collection.append(str(i) +'_' +str(j)) \n",
    "        else:\n",
    "            non_tissue_collection.append(str(i)+'_' +str(j))"
   ]
  },
  {
   "cell_type": "code",
   "execution_count": 3,
   "metadata": {},
   "outputs": [],
   "source": [
    "#check if negative tiles overlaps with non_tissue_collection tiles\n",
    "import collections\n",
    "negative_collection_multiset = collections.Counter(negative_collection)\n",
    "non_tissue_collection_multiset = collections.Counter(non_tissue_collection)\n",
    "overlap = list((negative_collection_multiset &non_tissue_collection_multiset).elements())"
   ]
  },
  {
   "cell_type": "markdown",
   "metadata": {},
   "source": [
    "Display a WSI example with labeled tiles"
   ]
  },
  {
   "cell_type": "code",
   "execution_count": null,
   "metadata": {},
   "outputs": [],
   "source": [
    "import matplotlib.pyplot as plt\n",
    "import numpy as np\n",
    "\n",
    "fig_img, ax_img = plt.subplots(height,width, figsize=(300,250)) #figsize=(40,30) : width, height in inches.\n",
    "bottom = 0.3; left=0.3\n",
    "top=1.-bottom; right = 1.-left\n",
    "plt.subplots_adjust(wspace = 0 ,hspace = 0, top=top, bottom=bottom, left=left, right=right )\n",
    "for idx, img in enumerate(all_cropped_images):\n",
    "    text = ax_img[int(idx/width), idx%width].text(20,20,int(str(int(idx/width))+str(int(idx%width)))  ,\n",
    "                       ha=\"center\", va=\"center\", color=\"darkblue\", fontsize=60)\n",
    "    if  str(int(idx/width))+'_'+str(int(idx%width)) in  non_tissue_collection :\n",
    "        text = ax_img[int(idx/width), idx%width].text(50,50, 'X',\n",
    "                       ha=\"center\", va=\"center\", color=\"darkblue\", fontsize=100)\n",
    "        ax_img[int(idx/width), idx%width].axis('off')\n",
    "    if  str(int(idx/width))+'_'+str(int(idx%width)) in positive_collection :#mark positivie tiles\n",
    "        text = ax_img[int(idx/width), idx%width].text(50,50, 'P',\n",
    "                       ha=\"center\", va=\"center\", color=\"darkblue\", fontsize=100)\n",
    "        #modify the style of spines\n",
    "        ax_img[int(idx/width), idx%width].axis('on')\n",
    "        ax_img[int(idx/width), idx%width].spines[\"top\"].set_color(\"orangered\") \n",
    "        ax_img[int(idx/width), idx%width].spines[\"bottom\"].set_color(\"orangered\") \n",
    "        ax_img[int(idx/width), idx%width].spines[\"left\"].set_color(\"orangered\") \n",
    "        ax_img[int(idx/width), idx%width].spines[\"right\"].set_color(\"orangered\")\n",
    "        ax_img[int(idx/width), idx%width].spines[\"top\"].set_linewidth(20) \n",
    "        ax_img[int(idx/width), idx%width].spines[\"bottom\"].set_linewidth(20) \n",
    "        ax_img[int(idx/width), idx%width].spines[\"left\"].set_linewidth(20) \n",
    "        ax_img[int(idx/width), idx%width].spines[\"right\"].set_linewidth(20)\n",
    "    if  str(int(idx/width))+'_'+str(int(idx%width)) in   negative_collection :#mark negative tiles\n",
    "        text = ax_img[int(idx/width), idx%width].text(50,50, 'N',\n",
    "                       ha=\"center\", va=\"center\", color=\"k\", fontsize=100)\n",
    "        ax_img[int(idx/width), idx%width].axis('on')\n",
    "        ax_img[int(idx/width), idx%width].spines[\"top\"].set_color(\"yellowgreen\") \n",
    "        ax_img[int(idx/width), idx%width].spines[\"bottom\"].set_color(\"yellowgreen\") \n",
    "        ax_img[int(idx/width), idx%width].spines[\"left\"].set_color(\"yellowgreen\") \n",
    "        ax_img[int(idx/width), idx%width].spines[\"right\"].set_color(\"yellowgreen\")\n",
    "        ax_img[int(idx/width), idx%width].spines[\"top\"].set_linewidth(20) \n",
    "        ax_img[int(idx/width), idx%width].spines[\"bottom\"].set_linewidth(20) \n",
    "        ax_img[int(idx/width), idx%width].spines[\"left\"].set_linewidth(20) \n",
    "        ax_img[int(idx/width), idx%width].spines[\"right\"].set_linewidth(20)\n",
    "\n",
    "    ax_img[int(idx/width), idx%width].imshow(img)\n",
    "    #ax_img[int(idx/width), idx%width].axis('off')\n",
    "    \n",
    "plt.savefig(os.path.join('\\ECSE484_Fall2020', 'Display_labelled_tile.png'))\n",
    "plt.show()"
   ]
  },
  {
   "cell_type": "markdown",
   "metadata": {},
   "source": [
    "Display mask with labeled tiles"
   ]
  },
  {
   "cell_type": "code",
   "execution_count": null,
   "metadata": {},
   "outputs": [],
   "source": [
    "import matplotlib.pyplot as plt\n",
    " \n",
    "fig_img, ax_mask = plt.subplots(height,width, figsize=(300,250)) #figsize=(40,30) : width, height in inches.\n",
    "\n",
    "for idx, img in enumerate(all_cropped_masks):\n",
    "    text = ax_mask[int(idx/width), idx%width].text(50,50,int(str(int(idx/width))+str(int(idx%width)))  ,\n",
    "                       ha=\"center\", va=\"center\", color=\"y\", fontsize=200) # 50,50 : center\n",
    "    ax_mask[int(idx/width), idx%width].imshow(img)\n",
    "    ax_mask[int(idx/width), idx%width].axis('off')\n",
    "    \n",
    "plt.savefig(os.path.join('\\ECSE484_Fall2020', 'Display_mask_tile.png'))  \n",
    "plt.show()"
   ]
  }
 ],
 "metadata": {
  "kernelspec": {
   "display_name": "Python 3",
   "language": "python",
   "name": "python3"
  },
  "language_info": {
   "codemirror_mode": {
    "name": "ipython",
    "version": 3
   },
   "file_extension": ".py",
   "mimetype": "text/x-python",
   "name": "python",
   "nbconvert_exporter": "python",
   "pygments_lexer": "ipython3",
   "version": "3.7.6"
  }
 },
 "nbformat": 4,
 "nbformat_minor": 2
}
